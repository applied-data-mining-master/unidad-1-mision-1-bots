{
  "nbformat": 4,
  "nbformat_minor": 0,
  "metadata": {
    "kernelspec": {
      "display_name": "Python 3",
      "language": "python",
      "name": "python3"
    },
    "language_info": {
      "codemirror_mode": {
        "name": "ipython",
        "version": 3
      },
      "file_extension": ".py",
      "mimetype": "text/x-python",
      "name": "python",
      "nbconvert_exporter": "python",
      "pygments_lexer": "ipython3",
      "version": "3.8.5"
    },
    "colab": {
      "name": "Exercise1_02.ipynb",
      "provenance": [],
      "collapsed_sections": []
    }
  },
  "cells": [
    {
      "cell_type": "markdown",
      "metadata": {
        "id": "jyYvEHU9g9pq"
      },
      "source": [
        "# Exercise 1.02: Creating an AI with Random Behavior for the Tic-Tac-Toe Game\n",
        "\n",
        "In this exercise, we'll create a framework for the tic-tac-toe game for experimentation. We will be modeling the game on the assumption that the AI player always starts the game. You will create a function that prints your internal representation, allows your opponent to enter a move randomly, and determines whether a player has won."
      ]
    },
    {
      "cell_type": "markdown",
      "metadata": {
        "id": "rcM4XGhNg9pu"
      },
      "source": [
        "1.- We will import the choice function from the random library:"
      ]
    },
    {
      "cell_type": "code",
      "metadata": {
        "id": "PeDLPn1Jg9pw"
      },
      "source": [
        "from random import choice\n"
      ],
      "execution_count": 10,
      "outputs": []
    },
    {
      "cell_type": "markdown",
      "metadata": {
        "id": "fa_6fHpBg9px"
      },
      "source": [
        "2.- Model the nine cells in a simple string.\n",
        "\n",
        "  > **Note**  \n",
        "  > A nine-character long Python string stores these cells in the following order: `123456789`. Let's determine the index triples that must contain matching signs so that a player wins the game"
      ]
    },
    {
      "cell_type": "code",
      "metadata": {
        "id": "85ftodrCg9p1"
      },
      "source": [
        "wins= [\r\n",
        "    [0, 1, 2],\r\n",
        "    [3, 4, 5],\r\n",
        "    [6, 7, 8],\r\n",
        "    [0, 3, 6],\r\n",
        "    [1, 4, 7],\r\n",
        "    [2, 5, 8],\r\n",
        "    [0, 4, 8],\r\n",
        "    [2, 4, 6]\r\n",
        "]"
      ],
      "execution_count": 11,
      "outputs": []
    },
    {
      "cell_type": "markdown",
      "metadata": {
        "id": "loeHJBTyg9p2"
      },
      "source": [
        "3.- Define the sign constants for empty cells, the AI, and the opponent player"
      ]
    },
    {
      "cell_type": "code",
      "metadata": {
        "id": "7NHW5HxJg9p2"
      },
      "source": [
        "EMPTY_SIGN='-'\r\n",
        "IA_SIGN='X'\r\n",
        "PLAYER_SIGN='O'"
      ],
      "execution_count": 12,
      "outputs": []
    },
    {
      "cell_type": "markdown",
      "metadata": {
        "id": "Jc7SSt1xg9p3"
      },
      "source": [
        "4.- Create a function that prints a board.\n",
        "\n",
        "  > add an empty row before and after the board so that we can easily read the game state"
      ]
    },
    {
      "cell_type": "code",
      "metadata": {
        "id": "En2SfkbDg9p4"
      },
      "source": [
        "def prtBoard(board):\r\n",
        "    cells=board\r\n",
        "    print('Fila/Col     1   2   3 ')\r\n",
        "    print('\\t1    ' + cells[0] + ' | ' + cells[1] + ' | ' + cells[2])\r\n",
        "    print('\\t    -----------')\r\n",
        "    print('\\t2    ' + cells[3] + ' | ' + cells[4] + ' | ' + cells[5])\r\n",
        "    print('\\t    -----------')\r\n",
        "    print('\\t3    ' + cells[6] + ' | ' + cells[7] + ' | ' + cells[8])\r\n"
      ],
      "execution_count": 13,
      "outputs": []
    },
    {
      "cell_type": "markdown",
      "metadata": {
        "id": "HUfaHKK-g9p5"
      },
      "source": [
        "5.- Describe a move of the human player.\n",
        "\n",
        "  > **Note**  \n",
        "  > The input arguments are the boards, the row numbers from $1$ to $3$, and the column numbers from $1$ to $3$. The return value of this function is a board containing the new move"
      ]
    },
    {
      "cell_type": "code",
      "metadata": {
        "id": "_ndRe6_5g9p6"
      },
      "source": [
        "def player_move(board, fila, columna):\r\n",
        "    while True:\r\n",
        "      index = 3 * (fila - 1) + (columna - 1)\r\n",
        "      if board[index] == EMPTY_SIGN:\r\n",
        "          return board[:index] + PLAYER_SIGN + board[index+1:]\r\n",
        "      else:\r\n",
        "        print('\\nFila: '+ str(fila) +' Columna: '+ str(columna))\r\n",
        "        print('Esta posicion ya esta ocupada, Elige otra celda...\\n\\n')\r\n",
        "        prtBoard(board)\r\n",
        "        fila = int(input('Ingresa la Fila: '))\r\n",
        "        columna = int(input('Ingresa la Columna: '))"
      ],
      "execution_count": 14,
      "outputs": []
    },
    {
      "cell_type": "markdown",
      "metadata": {
        "id": "LFR0xUEGg9p6"
      },
      "source": [
        "6.- Define a random move on the part of the AI player. Generate all possible moves defining the  `all_moves_from_board` function, and then select a random move from the list of possible moves\n",
        "\n",
        "  >**Hints**  \n",
        "  >Defined a function called all_moves_from_board that goes through all the indexes on the board and checks whether they are empty (`v == EMPTY_SIGN`). If that's the case, this means that the move can be played and that the index has been added to a list of moves (`move_list`). Finally, we defined the `ai_move` function in order to randomly let the AI choose an index that is equal to a move in the game."
      ]
    },
    {
      "cell_type": "code",
      "metadata": {
        "id": "4nUz9JDmg9p7"
      },
      "source": [
        "def all_moves_from_board(board, sign):\r\n",
        "    lmove = []\r\n",
        "    for i, y in enumerate(board):\r\n",
        "        if y == EMPTY_SIGN:\r\n",
        "            lmove.append(board[:i] + sign + board[i+1:])\r\n",
        "    return lmove\r\n",
        "\r\n",
        "\r\n",
        "def ia_move(board):\r\n",
        "    return choice(all_moves_from_board(board, IA_SIGN))"
      ],
      "execution_count": 15,
      "outputs": []
    },
    {
      "cell_type": "markdown",
      "metadata": {
        "id": "MshQ9akjg9p8"
      },
      "source": [
        "7.- Determine whether a player has won the game.\n",
        "\n",
        "  > **Hints**  \n",
        "  > Define the `game_won_by` function, which checks whether the board contains a combo of three identical indexes from the `combo_indices` variable to end the game."
      ]
    },
    {
      "cell_type": "code",
      "metadata": {
        "id": "iI1HQp3zg9p8"
      },
      "source": [
        "def game_won_by(board):\r\n",
        "    for idx in wins:\r\n",
        "        if board[idx[0]] == board[idx[1]] == board[idx[2]] != EMPTY_SIGN:\r\n",
        "            return board[idx[0]]\r\n",
        "    return EMPTY_SIGN"
      ],
      "execution_count": 16,
      "outputs": []
    },
    {
      "cell_type": "markdown",
      "metadata": {
        "id": "-VtZUb3Qg9p9"
      },
      "source": [
        "8.- Finally, create a game loop so that we can test the interaction between the computer player and the human player.\n",
        "\n",
        "  > **Hints**  \n",
        "  >  * Conduct a brute-force search.\n",
        "  >  * Defined the function, which can be broken down into various parts. The first part is to initialize the board and fill it with empty signs (`board = EMPTY_SIGN * 9`). Then, we create a counter of the empty cell, which will help us to create a loop and determine the AI's turn.The second part is to create a function for the player and the AI engine to play the game against each other. As soon as one player makes a move, the `empty_cell_count` variable will decrease by $1$. The loop will keep going until either the `game_won_by` function finds a winner or there are no more possible moves on the board."
      ]
    },
    {
      "cell_type": "code",
      "metadata": {
        "id": "5p1VW06Gg9p-"
      },
      "source": [
        "def juego_Gato():\r\n",
        "    fin= False\r\n",
        "    empty_cell_count = 9\r\n",
        "    board = EMPTY_SIGN * 9\r\n",
        "    print('TIC TAC TOE GAME\\n\\n')\r\n",
        "    nombre = input('Teclea tu Nombre: ')\r\n",
        "    print('Comienza el Juego!')\r\n",
        "    while empty_cell_count > 0 and not fin:\r\n",
        "        if empty_cell_count % 2 == 1:\r\n",
        "            print('\\n\\n\\nTurno de la IA\\n')\r\n",
        "            board = ia_move(board)\r\n",
        "        else:\r\n",
        "            print('\\n\\n\\nTurno de '+ nombre)\r\n",
        "            fila = int(input('Ingresa la Fila: '))\r\n",
        "            columna = int(input('Ingresa la Columna: '))\r\n",
        "            print('')\r\n",
        "            board = player_move(board, fila, columna)\r\n",
        "        prtBoard(board)\r\n",
        "        game = game_won_by(board)\r\n",
        "        fin =  game != EMPTY_SIGN\r\n",
        "        empty_cell_count = sum(1 for cell in board if cell == EMPTY_SIGN) \r\n",
        "    if game== IA_SIGN:\r\n",
        "      print('Lo sentimos, Haz Perdido :(')\r\n",
        "    else:\r\n",
        "      print('Felicidades '+ nombre+' Haz GANADO!!!')\r\n",
        "    print('Fin Del Juego.')"
      ],
      "execution_count": 17,
      "outputs": []
    },
    {
      "cell_type": "markdown",
      "metadata": {
        "id": "EofYORcEg9p-"
      },
      "source": [
        "9.- Use the `game_loop` function to run the game"
      ]
    },
    {
      "cell_type": "code",
      "metadata": {
        "id": "xGoo3y70g9qB"
      },
      "source": [
        "juego_Gato()"
      ],
      "execution_count": null,
      "outputs": []
    }
  ]
}