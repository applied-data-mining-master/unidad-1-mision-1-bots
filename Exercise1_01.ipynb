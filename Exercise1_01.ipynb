{
  "nbformat": 4,
  "nbformat_minor": 0,
  "metadata": {
    "kernelspec": {
      "display_name": "Python 3",
      "language": "python",
      "name": "python3"
    },
    "language_info": {
      "codemirror_mode": {
        "name": "ipython",
        "version": 3
      },
      "file_extension": ".py",
      "mimetype": "text/x-python",
      "name": "python",
      "nbconvert_exporter": "python",
      "pygments_lexer": "ipython3",
      "version": "3.8.5"
    },
    "colab": {
      "name": "Exercise1_01.ipynb",
      "provenance": [],
      "collapsed_sections": []
    }
  },
  "cells": [
    {
      "cell_type": "markdown",
      "metadata": {
        "id": "A1g1O5hVJJWK"
      },
      "source": [
        "# Exercise 1.01: Matrix Operations Using NumPy\n",
        "\n",
        "We will be using Jupyter Notebook and the following matrix to solve this exercise.\n",
        "\n",
        "We will calculate the square of the matrix, which is determinant of the matrix and the transpose of the matrix shown in the following figure, using NumPy:\n",
        "\n",
        "![Figure 1.2](img/fig1_02.jpg)"
      ]
    },
    {
      "cell_type": "markdown",
      "metadata": {
        "id": "fWXkME0jJJWg"
      },
      "source": [
        "1.- Import the `numpy` library as `np`"
      ]
    },
    {
      "cell_type": "code",
      "metadata": {
        "id": "cYtBcm3DJJWh"
      },
      "source": [
        "import numpy as np"
      ],
      "execution_count": null,
      "outputs": []
    },
    {
      "cell_type": "markdown",
      "metadata": {
        "id": "YK80OmbdJJWi"
      },
      "source": [
        "2.- Create a two-dimensional array called `A` for storing the $[[1,2,3],[4,5,6],[7,8,9]]$ matrix using `np.mat`, then show de variable A\n",
        "\n",
        "Output:\n",
        "\n",
        "```\n",
        "matrix([[1, 2, 3],\n",
        "        [4, 5, 6],\n",
        "        [7, 8, 9]])\n",
        "```\n",
        "\n",
        "  > If you have created an np.array instead of np.mat, the solution for the array multiplication will be incorrect."
      ]
    },
    {
      "cell_type": "code",
      "metadata": {
        "colab": {
          "base_uri": "https://localhost:8080/"
        },
        "id": "SAvlfh5MJJWi",
        "outputId": "06f95fff-7a7f-48ee-fef7-e319553377d2"
      },
      "source": [
        "A = np.mat([[1,2,3],[4,5,6],[7,8,9]])\n",
        "A"
      ],
      "execution_count": null,
      "outputs": [
        {
          "output_type": "execute_result",
          "data": {
            "text/plain": [
              "matrix([[1, 2, 3],\n",
              "        [4, 5, 6],\n",
              "        [7, 8, 9]])"
            ]
          },
          "metadata": {
            "tags": []
          },
          "execution_count": 4
        }
      ]
    },
    {
      "cell_type": "markdown",
      "metadata": {
        "id": "75HIm5x6JJWj"
      },
      "source": [
        "3.- Perform matrix multiplication using the asterisk and save the result in a variable called `matmult`"
      ]
    },
    {
      "cell_type": "code",
      "metadata": {
        "colab": {
          "base_uri": "https://localhost:8080/"
        },
        "id": "osB-81s5JJWj",
        "outputId": "14c5cf01-a991-49d8-9aae-2932a82cd1f3"
      },
      "source": [
        "mtzMult = A * A\n",
        "mtzMult"
      ],
      "execution_count": null,
      "outputs": [
        {
          "output_type": "execute_result",
          "data": {
            "text/plain": [
              "matrix([[ 30,  36,  42],\n",
              "        [ 66,  81,  96],\n",
              "        [102, 126, 150]])"
            ]
          },
          "metadata": {
            "tags": []
          },
          "execution_count": 7
        }
      ]
    },
    {
      "cell_type": "markdown",
      "metadata": {
        "id": "IuxxxppaJJWk"
      },
      "source": [
        "4.- Manually calculate the square of A by performing matrix multiplication. Show the result.\n",
        "\n",
        "Output:\n",
        "\n",
        "```\n",
        "30\n",
        "```"
      ]
    },
    {
      "cell_type": "code",
      "metadata": {
        "colab": {
          "base_uri": "https://localhost:8080/"
        },
        "id": "2thmSiDWJJWn",
        "outputId": "a2d061c7-0ee8-4aa9-ccd1-7a3e323a86ac"
      },
      "source": [
        "1*1+2*4+3*7"
      ],
      "execution_count": null,
      "outputs": [
        {
          "output_type": "execute_result",
          "data": {
            "text/plain": [
              "30"
            ]
          },
          "metadata": {
            "tags": []
          },
          "execution_count": 10
        }
      ]
    },
    {
      "cell_type": "markdown",
      "metadata": {
        "id": "yk_6yxaWJJWp"
      },
      "source": [
        "5.- Use `np.linalg.det` to calculate the determinant of the matrix and save the result in a variable called `det`.\n",
        "\n",
        "Output:\n",
        "\n",
        "```\n",
        "0.0\n",
        "```"
      ]
    },
    {
      "cell_type": "code",
      "metadata": {
        "colab": {
          "base_uri": "https://localhost:8080/"
        },
        "id": "rj6V6O0UJJWq",
        "outputId": "1e241613-24d6-4ac3-ce84-150c658cb4a0"
      },
      "source": [
        "det = np.linalg.det(A)\n",
        "det"
      ],
      "execution_count": null,
      "outputs": [
        {
          "output_type": "execute_result",
          "data": {
            "text/plain": [
              "0.0"
            ]
          },
          "metadata": {
            "tags": []
          },
          "execution_count": 12
        }
      ]
    },
    {
      "cell_type": "markdown",
      "metadata": {
        "id": "G30wMPWSJJWq"
      },
      "source": [
        "6.- Use `np.matrix.transpose` to get the transpose of the matrix and save the result in a variable called `transpose`\n",
        "\n",
        "Output:\n",
        "\n",
        "```\n",
        "matrix([[1, 4, 7],\n",
        "        [2, 5, 8],\n",
        "        [3, 6, 9]])\n",
        "```"
      ]
    },
    {
      "cell_type": "code",
      "metadata": {
        "colab": {
          "base_uri": "https://localhost:8080/"
        },
        "id": "y4Glb3NhJJWr",
        "outputId": "6262b75c-1937-48d7-c57b-db738e4e1c02"
      },
      "source": [
        "transpose = np.matrix.transpose(A)\n",
        "transpose"
      ],
      "execution_count": null,
      "outputs": [
        {
          "output_type": "execute_result",
          "data": {
            "text/plain": [
              "matrix([[1, 4, 7],\n",
              "        [2, 5, 8],\n",
              "        [3, 6, 9]])"
            ]
          },
          "metadata": {
            "tags": []
          },
          "execution_count": 13
        }
      ]
    },
    {
      "cell_type": "markdown",
      "metadata": {
        "id": "zZ67fUNOJJWs"
      },
      "source": [
        "By completing this exercise, you have seen that NumPy comes with many useful features for vectors, matrices, and other mathematical structures.\n",
        "\n",
        "In the upcoming section, we will be implementing AI in an interesting tic-tac-toe game using Python."
      ]
    },
    {
      "cell_type": "code",
      "metadata": {
        "id": "NYSk-eUGJJWs"
      },
      "source": [
        ""
      ],
      "execution_count": null,
      "outputs": []
    }
  ]
}